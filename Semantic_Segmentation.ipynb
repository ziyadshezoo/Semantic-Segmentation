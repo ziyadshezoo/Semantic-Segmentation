{
  "cells": [
    {
      "cell_type": "markdown",
      "metadata": {
        "id": "view-in-github",
        "colab_type": "text"
      },
      "source": [
        "<a href=\"https://colab.research.google.com/github/ziyadshezoo/Semantic-Segmentation/blob/main/Semantic_Segmentation.ipynb\" target=\"_parent\"><img src=\"https://colab.research.google.com/assets/colab-badge.svg\" alt=\"Open In Colab\"/></a>"
      ]
    },
    {
      "cell_type": "code",
      "execution_count": 1,
      "id": "38bc0b98",
      "metadata": {
        "colab": {
          "base_uri": "https://localhost:8080/"
        },
        "id": "38bc0b98",
        "outputId": "8915e585-6ddb-4550-9189-da6a829d9402"
      },
      "outputs": [
        {
          "output_type": "stream",
          "name": "stdout",
          "text": [
            "Requirement already satisfied: albumentations in /usr/local/lib/python3.10/dist-packages (1.3.1)\n",
            "Requirement already satisfied: numpy>=1.11.1 in /usr/local/lib/python3.10/dist-packages (from albumentations) (1.23.5)\n",
            "Requirement already satisfied: scipy>=1.1.0 in /usr/local/lib/python3.10/dist-packages (from albumentations) (1.11.4)\n",
            "Requirement already satisfied: scikit-image>=0.16.1 in /usr/local/lib/python3.10/dist-packages (from albumentations) (0.19.3)\n",
            "Requirement already satisfied: PyYAML in /usr/local/lib/python3.10/dist-packages (from albumentations) (6.0.1)\n",
            "Requirement already satisfied: qudida>=0.0.4 in /usr/local/lib/python3.10/dist-packages (from albumentations) (0.0.4)\n",
            "Requirement already satisfied: opencv-python-headless>=4.1.1 in /usr/local/lib/python3.10/dist-packages (from albumentations) (4.8.1.78)\n",
            "Requirement already satisfied: scikit-learn>=0.19.1 in /usr/local/lib/python3.10/dist-packages (from qudida>=0.0.4->albumentations) (1.2.2)\n",
            "Requirement already satisfied: typing-extensions in /usr/local/lib/python3.10/dist-packages (from qudida>=0.0.4->albumentations) (4.5.0)\n",
            "Requirement already satisfied: networkx>=2.2 in /usr/local/lib/python3.10/dist-packages (from scikit-image>=0.16.1->albumentations) (3.2.1)\n",
            "Requirement already satisfied: pillow!=7.1.0,!=7.1.1,!=8.3.0,>=6.1.0 in /usr/local/lib/python3.10/dist-packages (from scikit-image>=0.16.1->albumentations) (9.4.0)\n",
            "Requirement already satisfied: imageio>=2.4.1 in /usr/local/lib/python3.10/dist-packages (from scikit-image>=0.16.1->albumentations) (2.31.6)\n",
            "Requirement already satisfied: tifffile>=2019.7.26 in /usr/local/lib/python3.10/dist-packages (from scikit-image>=0.16.1->albumentations) (2023.12.9)\n",
            "Requirement already satisfied: PyWavelets>=1.1.1 in /usr/local/lib/python3.10/dist-packages (from scikit-image>=0.16.1->albumentations) (1.5.0)\n",
            "Requirement already satisfied: packaging>=20.0 in /usr/local/lib/python3.10/dist-packages (from scikit-image>=0.16.1->albumentations) (23.2)\n",
            "Requirement already satisfied: joblib>=1.1.1 in /usr/local/lib/python3.10/dist-packages (from scikit-learn>=0.19.1->qudida>=0.0.4->albumentations) (1.3.2)\n",
            "Requirement already satisfied: threadpoolctl>=2.0.0 in /usr/local/lib/python3.10/dist-packages (from scikit-learn>=0.19.1->qudida>=0.0.4->albumentations) (3.2.0)\n"
          ]
        }
      ],
      "source": [
        "!pip install albumentations"
      ]
    },
    {
      "cell_type": "code",
      "execution_count": 2,
      "id": "f728ee71",
      "metadata": {
        "id": "f728ee71"
      },
      "outputs": [],
      "source": [
        "import os\n",
        "import numpy as np\n",
        "import cv2\n",
        "from glob import glob\n",
        "from tqdm import tqdm\n",
        "from sklearn.model_selection import train_test_split\n",
        "from albumentations import HorizontalFlip, VerticalFlip, Rotate"
      ]
    },
    {
      "cell_type": "code",
      "execution_count": 3,
      "id": "ae71bb36",
      "metadata": {
        "id": "ae71bb36"
      },
      "outputs": [],
      "source": [
        "def create_dir(path):\n",
        "    \"\"\" Create a directory. \"\"\"\n",
        "    if not os.path.exists(path):\n",
        "        os.makedirs(path)"
      ]
    },
    {
      "cell_type": "code",
      "source": [
        "from google.colab import drive\n",
        "drive.mount('/content/drive')"
      ],
      "metadata": {
        "colab": {
          "base_uri": "https://localhost:8080/"
        },
        "id": "7ksC3ynB-Xlr",
        "outputId": "69525ac5-27af-4ca4-febf-483decbc2b76"
      },
      "id": "7ksC3ynB-Xlr",
      "execution_count": 4,
      "outputs": [
        {
          "output_type": "stream",
          "name": "stdout",
          "text": [
            "Mounted at /content/drive\n"
          ]
        }
      ]
    },
    {
      "cell_type": "code",
      "execution_count": 5,
      "id": "5fee572a",
      "metadata": {
        "id": "5fee572a"
      },
      "outputs": [],
      "source": [
        "def load_data(path, split=0.2):\n",
        "    \"\"\" Load the images and fuse \"\"\"\n",
        "    org = sorted(glob(f\"{path}/original/*.jpg\"))\n",
        "    fuse = sorted(glob(f\"{path}/Fuse/*.png\"))\n",
        "    \"\"\" Split the data \"\"\"\n",
        "    split_size = int(len(org) * split)\n",
        "    train_x, valid_x = train_test_split(org, test_size=split_size, random_state=42)\n",
        "    train_y, valid_y = train_test_split(fuse, test_size=split_size, random_state=42)\n",
        "\n",
        "    return (train_x, train_y), (valid_x, valid_y)"
      ]
    },
    {
      "cell_type": "code",
      "execution_count": 6,
      "id": "6bcd34f2",
      "metadata": {
        "id": "6bcd34f2"
      },
      "outputs": [],
      "source": [
        "def augment_data(org, fuse, save_path, augment=True):\n",
        "    \"\"\" Performing data augmentation. \"\"\"\n",
        "    H = 512\n",
        "    W = 512\n",
        "\n",
        "    for idx, (x, y) in tqdm(enumerate(zip(org, fuse)), total=len(org)):\n",
        "        \"\"\" Extracting the dir name and org name \"\"\"\n",
        "        name =x.split(\"/\")[-1].split(\"  \")[-1]\n",
        "        \"\"\" Read the org and fuse \"\"\"\n",
        "        x = cv2.imread(x, cv2.IMREAD_COLOR)\n",
        "        y = cv2.imread(y, cv2.IMREAD_COLOR)\n",
        "        X = [x]\n",
        "            #print(len(X))\n",
        "        Y =[y]\n",
        "\n",
        "        idx = 0\n",
        "        for i, m in zip(X, Y):\n",
        "            i = cv2.resize(i, (W, H))\n",
        "            m = cv2.resize(m, (W, H))\n",
        "            m = m/255.0\n",
        "            m = (m > 0.5) * 255\n",
        "\n",
        "            if len(X) == 1:  # each loop it will take one org\n",
        "                tmp_image_name = f\"{name}.jpg\"\n",
        "                tmp_fuse_name  = f\"{name}.jpg\"\n",
        "#             else:\n",
        "#                 tmp_image_name = f\"{name}_{idx}.jpg\"\n",
        "#                 tmp_fuse_name  = f\"{name}_{idx}.jpg\"\n",
        "\n",
        "            image_path = os.path.join(save_path, \"image/\", tmp_image_name)\n",
        "            fuse_path  = os.path.join(save_path, \"mask/\", tmp_fuse_name)\n",
        "\n",
        "            cv2.imwrite(image_path, i)\n",
        "            cv2.imwrite(fuse_path, m)\n",
        "\n",
        "            idx += 1\n"
      ]
    },
    {
      "cell_type": "code",
      "execution_count": 7,
      "id": "2021fb4b",
      "metadata": {
        "id": "2021fb4b",
        "outputId": "e95ec008-b35e-4839-cf45-f6de4854cdd3",
        "colab": {
          "base_uri": "https://localhost:8080/"
        }
      },
      "outputs": [
        {
          "output_type": "stream",
          "name": "stdout",
          "text": [
            "Train:  80\n",
            "Valid:  20\n"
          ]
        },
        {
          "output_type": "stream",
          "name": "stderr",
          "text": [
            "100%|██████████| 80/80 [00:23<00:00,  3.40it/s]\n",
            "100%|██████████| 20/20 [00:05<00:00,  3.87it/s]\n"
          ]
        }
      ],
      "source": [
        "if __name__ == \"__main__\":\n",
        "    \"\"\" Load the dataset \"\"\"\n",
        "    dataset_path = os.path.join(\"/content/drive/MyDrive/archive\")\n",
        "\n",
        "    (train_x, train_y), (valid_x, valid_y) = load_data(dataset_path, split=0.2)\n",
        "\n",
        "    print(\"Train: \", len(train_x))\n",
        "    print(\"Valid: \", len(valid_x))\n",
        "\n",
        "    create_dir(\"new_data/train/image/\")\n",
        "    create_dir(\"new_data/train/mask/\")\n",
        "    create_dir(\"new_data/valid/image/\")\n",
        "    create_dir(\"new_data/valid/mask/\")\n",
        "\n",
        "    augment_data(train_x, train_y, \"new_data/train/\", augment=True)\n",
        "    augment_data(valid_x, valid_y, \"new_data/valid/\", augment=False)"
      ]
    },
    {
      "cell_type": "code",
      "execution_count": 8,
      "id": "86f311f6",
      "metadata": {
        "id": "86f311f6"
      },
      "outputs": [],
      "source": [
        "from keras.models import *\n",
        "from keras.layers import *\n",
        "from keras.optimizers import *\n",
        "import tensorflow as tf\n",
        "import os\n",
        "import random\n",
        "import numpy as np\n",
        "from tqdm import tqdm\n",
        "from skimage.io import imread,imshow\n",
        "from skimage.transform import resize\n",
        "import matplotlib.pyplot as plt\n",
        "IMG_WIDTH=512\n",
        "IMG_HEIGHT=512\n",
        "IMG_CHANNEL=3"
      ]
    },
    {
      "cell_type": "code",
      "source": [
        "!pip install segmentation_models"
      ],
      "metadata": {
        "colab": {
          "base_uri": "https://localhost:8080/"
        },
        "id": "4vkBEfjAG79Z",
        "outputId": "df5658dd-5563-49bf-cfe8-0926208fa7ac"
      },
      "id": "4vkBEfjAG79Z",
      "execution_count": 9,
      "outputs": [
        {
          "output_type": "stream",
          "name": "stdout",
          "text": [
            "Collecting segmentation_models\n",
            "  Downloading segmentation_models-1.0.1-py3-none-any.whl (33 kB)\n",
            "Collecting keras-applications<=1.0.8,>=1.0.7 (from segmentation_models)\n",
            "  Downloading Keras_Applications-1.0.8-py3-none-any.whl (50 kB)\n",
            "\u001b[2K     \u001b[90m━━━━━━━━━━━━━━━━━━━━━━━━━━━━━━━━━━━━━━━━\u001b[0m \u001b[32m50.7/50.7 kB\u001b[0m \u001b[31m2.3 MB/s\u001b[0m eta \u001b[36m0:00:00\u001b[0m\n",
            "\u001b[?25hCollecting image-classifiers==1.0.0 (from segmentation_models)\n",
            "  Downloading image_classifiers-1.0.0-py3-none-any.whl (19 kB)\n",
            "Collecting efficientnet==1.0.0 (from segmentation_models)\n",
            "  Downloading efficientnet-1.0.0-py3-none-any.whl (17 kB)\n",
            "Requirement already satisfied: scikit-image in /usr/local/lib/python3.10/dist-packages (from efficientnet==1.0.0->segmentation_models) (0.19.3)\n",
            "Requirement already satisfied: numpy>=1.9.1 in /usr/local/lib/python3.10/dist-packages (from keras-applications<=1.0.8,>=1.0.7->segmentation_models) (1.23.5)\n",
            "Requirement already satisfied: h5py in /usr/local/lib/python3.10/dist-packages (from keras-applications<=1.0.8,>=1.0.7->segmentation_models) (3.9.0)\n",
            "Requirement already satisfied: scipy>=1.4.1 in /usr/local/lib/python3.10/dist-packages (from scikit-image->efficientnet==1.0.0->segmentation_models) (1.11.4)\n",
            "Requirement already satisfied: networkx>=2.2 in /usr/local/lib/python3.10/dist-packages (from scikit-image->efficientnet==1.0.0->segmentation_models) (3.2.1)\n",
            "Requirement already satisfied: pillow!=7.1.0,!=7.1.1,!=8.3.0,>=6.1.0 in /usr/local/lib/python3.10/dist-packages (from scikit-image->efficientnet==1.0.0->segmentation_models) (9.4.0)\n",
            "Requirement already satisfied: imageio>=2.4.1 in /usr/local/lib/python3.10/dist-packages (from scikit-image->efficientnet==1.0.0->segmentation_models) (2.31.6)\n",
            "Requirement already satisfied: tifffile>=2019.7.26 in /usr/local/lib/python3.10/dist-packages (from scikit-image->efficientnet==1.0.0->segmentation_models) (2023.12.9)\n",
            "Requirement already satisfied: PyWavelets>=1.1.1 in /usr/local/lib/python3.10/dist-packages (from scikit-image->efficientnet==1.0.0->segmentation_models) (1.5.0)\n",
            "Requirement already satisfied: packaging>=20.0 in /usr/local/lib/python3.10/dist-packages (from scikit-image->efficientnet==1.0.0->segmentation_models) (23.2)\n",
            "Installing collected packages: keras-applications, image-classifiers, efficientnet, segmentation_models\n",
            "Successfully installed efficientnet-1.0.0 image-classifiers-1.0.0 keras-applications-1.0.8 segmentation_models-1.0.1\n"
          ]
        }
      ]
    },
    {
      "cell_type": "code",
      "execution_count": 27,
      "id": "c331f719",
      "metadata": {
        "id": "c331f719"
      },
      "outputs": [],
      "source": [
        "def U_NET(input_shape):\n",
        "  x=Input(input_shape)\n",
        "  inputs=x\n",
        "  #DownSampling\n",
        "  f=64\n",
        "  layers=[]\n",
        "  for i in range(4):\n",
        "    x=Conv2D(f,3,activation='relu',padding='same')(x)\n",
        "    x=Dropout(.1)(x)\n",
        "    x=Conv2D(f,3,activation='relu',padding='same')(x)\n",
        "    x=Conv2D(f,3,activation='relu',padding='same')(x)\n",
        "    layers.append(x)\n",
        "    x=MaxPool2D()(x)\n",
        "    f=f*2\n",
        "    print(f)\n",
        "  ff2=512\n",
        "  #bottelneck\n",
        "  j=len(layers)-1\n",
        "  print(j)\n",
        "  x=Conv2D(f,3,activation='relu',padding='same')(x)\n",
        "  x=Dropout(.1)(x)\n",
        "  x=Conv2D(f,3,activation='relu',padding='same')(x)\n",
        "  x=Conv2DTranspose(ff2,2,strides=(2,2),padding='same')(x)\n",
        "  x=Concatenate(axis=3)([x,layers[j]])\n",
        "  j=j-1\n",
        "  print(j)\n",
        "  for i in range(3):\n",
        "    ff2=ff2//2\n",
        "    f=f//2\n",
        "    print(f)\n",
        "    x=Conv2D(f,3,activation='relu',padding='same')(x)\n",
        "    x=Conv2D(f,3,activation='relu',padding='same')(x)\n",
        "    x=Conv2D(f,3,activation='relu',padding='same')(x)\n",
        "    x=Conv2DTranspose(ff2,2,strides=(2,2),padding='same')(x)\n",
        "    x=Concatenate(axis=3)([x,layers[j]])\n",
        "    j=j-1\n",
        "  x=Conv2D(64,3,activation='relu',padding='same')(x)\n",
        "  x=Dropout(.1)(x)\n",
        "  x=Conv2D(64,3,activation='relu',padding='same')(x)\n",
        "  x=Conv2D(64,3,activation='relu',padding='same')(x)\n",
        "  outputs=Conv2D(1,1,activation= 'sigmoid')(x)\n",
        "  model=Model(inputs=[inputs],outputs=[outputs],name='U-Net')\n",
        "  model.compile(optimizer=Adam(lr=1e-4),loss='binary_crossintropy',metrics=['mean_iou'])\n",
        "  #model.summary()\n",
        "  return model"
      ]
    },
    {
      "cell_type": "code",
      "source": [
        "if __name__==\"__main__\":\n",
        "  model=U_NET((IMG_WIDTH,IMG_HEIGHT,IMG_CHANNEL))\n",
        "  model.summary()"
      ],
      "metadata": {
        "colab": {
          "base_uri": "https://localhost:8080/"
        },
        "id": "CKfzafHw8KoQ",
        "outputId": "ccea613f-d56b-4a38-a91a-e4059133fdfe"
      },
      "id": "CKfzafHw8KoQ",
      "execution_count": 28,
      "outputs": [
        {
          "output_type": "stream",
          "name": "stdout",
          "text": [
            "128\n",
            "256\n",
            "512\n",
            "1024\n",
            "3\n",
            "2\n",
            "512\n"
          ]
        },
        {
          "output_type": "stream",
          "name": "stderr",
          "text": [
            "WARNING:absl:`lr` is deprecated in Keras optimizer, please use `learning_rate` or use the legacy optimizer, e.g.,tf.keras.optimizers.legacy.Adam.\n"
          ]
        },
        {
          "output_type": "stream",
          "name": "stdout",
          "text": [
            "256\n",
            "128\n",
            "Model: \"U-Net\"\n",
            "__________________________________________________________________________________________________\n",
            " Layer (type)                Output Shape                 Param #   Connected to                  \n",
            "==================================================================================================\n",
            " input_7 (InputLayer)        [(None, 512, 512, 3)]        0         []                            \n",
            "                                                                                                  \n",
            " conv2d_138 (Conv2D)         (None, 512, 512, 64)         1792      ['input_7[0][0]']             \n",
            "                                                                                                  \n",
            " dropout_30 (Dropout)        (None, 512, 512, 64)         0         ['conv2d_138[0][0]']          \n",
            "                                                                                                  \n",
            " conv2d_139 (Conv2D)         (None, 512, 512, 64)         36928     ['dropout_30[0][0]']          \n",
            "                                                                                                  \n",
            " conv2d_140 (Conv2D)         (None, 512, 512, 64)         36928     ['conv2d_139[0][0]']          \n",
            "                                                                                                  \n",
            " max_pooling2d_24 (MaxPooli  (None, 256, 256, 64)         0         ['conv2d_140[0][0]']          \n",
            " ng2D)                                                                                            \n",
            "                                                                                                  \n",
            " conv2d_141 (Conv2D)         (None, 256, 256, 128)        73856     ['max_pooling2d_24[0][0]']    \n",
            "                                                                                                  \n",
            " dropout_31 (Dropout)        (None, 256, 256, 128)        0         ['conv2d_141[0][0]']          \n",
            "                                                                                                  \n",
            " conv2d_142 (Conv2D)         (None, 256, 256, 128)        147584    ['dropout_31[0][0]']          \n",
            "                                                                                                  \n",
            " conv2d_143 (Conv2D)         (None, 256, 256, 128)        147584    ['conv2d_142[0][0]']          \n",
            "                                                                                                  \n",
            " max_pooling2d_25 (MaxPooli  (None, 128, 128, 128)        0         ['conv2d_143[0][0]']          \n",
            " ng2D)                                                                                            \n",
            "                                                                                                  \n",
            " conv2d_144 (Conv2D)         (None, 128, 128, 256)        295168    ['max_pooling2d_25[0][0]']    \n",
            "                                                                                                  \n",
            " dropout_32 (Dropout)        (None, 128, 128, 256)        0         ['conv2d_144[0][0]']          \n",
            "                                                                                                  \n",
            " conv2d_145 (Conv2D)         (None, 128, 128, 256)        590080    ['dropout_32[0][0]']          \n",
            "                                                                                                  \n",
            " conv2d_146 (Conv2D)         (None, 128, 128, 256)        590080    ['conv2d_145[0][0]']          \n",
            "                                                                                                  \n",
            " max_pooling2d_26 (MaxPooli  (None, 64, 64, 256)          0         ['conv2d_146[0][0]']          \n",
            " ng2D)                                                                                            \n",
            "                                                                                                  \n",
            " conv2d_147 (Conv2D)         (None, 64, 64, 512)          1180160   ['max_pooling2d_26[0][0]']    \n",
            "                                                                                                  \n",
            " dropout_33 (Dropout)        (None, 64, 64, 512)          0         ['conv2d_147[0][0]']          \n",
            "                                                                                                  \n",
            " conv2d_148 (Conv2D)         (None, 64, 64, 512)          2359808   ['dropout_33[0][0]']          \n",
            "                                                                                                  \n",
            " conv2d_149 (Conv2D)         (None, 64, 64, 512)          2359808   ['conv2d_148[0][0]']          \n",
            "                                                                                                  \n",
            " max_pooling2d_27 (MaxPooli  (None, 32, 32, 512)          0         ['conv2d_149[0][0]']          \n",
            " ng2D)                                                                                            \n",
            "                                                                                                  \n",
            " conv2d_150 (Conv2D)         (None, 32, 32, 1024)         4719616   ['max_pooling2d_27[0][0]']    \n",
            "                                                                                                  \n",
            " dropout_34 (Dropout)        (None, 32, 32, 1024)         0         ['conv2d_150[0][0]']          \n",
            "                                                                                                  \n",
            " conv2d_151 (Conv2D)         (None, 32, 32, 1024)         9438208   ['dropout_34[0][0]']          \n",
            "                                                                                                  \n",
            " conv2d_transpose_24 (Conv2  (None, 64, 64, 512)          2097664   ['conv2d_151[0][0]']          \n",
            " DTranspose)                                                                                      \n",
            "                                                                                                  \n",
            " concatenate_24 (Concatenat  (None, 64, 64, 1024)         0         ['conv2d_transpose_24[0][0]', \n",
            " e)                                                                  'conv2d_149[0][0]']          \n",
            "                                                                                                  \n",
            " conv2d_152 (Conv2D)         (None, 64, 64, 512)          4719104   ['concatenate_24[0][0]']      \n",
            "                                                                                                  \n",
            " conv2d_153 (Conv2D)         (None, 64, 64, 512)          2359808   ['conv2d_152[0][0]']          \n",
            "                                                                                                  \n",
            " conv2d_154 (Conv2D)         (None, 64, 64, 512)          2359808   ['conv2d_153[0][0]']          \n",
            "                                                                                                  \n",
            " conv2d_transpose_25 (Conv2  (None, 128, 128, 256)        524544    ['conv2d_154[0][0]']          \n",
            " DTranspose)                                                                                      \n",
            "                                                                                                  \n",
            " concatenate_25 (Concatenat  (None, 128, 128, 512)        0         ['conv2d_transpose_25[0][0]', \n",
            " e)                                                                  'conv2d_146[0][0]']          \n",
            "                                                                                                  \n",
            " conv2d_155 (Conv2D)         (None, 128, 128, 256)        1179904   ['concatenate_25[0][0]']      \n",
            "                                                                                                  \n",
            " conv2d_156 (Conv2D)         (None, 128, 128, 256)        590080    ['conv2d_155[0][0]']          \n",
            "                                                                                                  \n",
            " conv2d_157 (Conv2D)         (None, 128, 128, 256)        590080    ['conv2d_156[0][0]']          \n",
            "                                                                                                  \n",
            " conv2d_transpose_26 (Conv2  (None, 256, 256, 128)        131200    ['conv2d_157[0][0]']          \n",
            " DTranspose)                                                                                      \n",
            "                                                                                                  \n",
            " concatenate_26 (Concatenat  (None, 256, 256, 256)        0         ['conv2d_transpose_26[0][0]', \n",
            " e)                                                                  'conv2d_143[0][0]']          \n",
            "                                                                                                  \n",
            " conv2d_158 (Conv2D)         (None, 256, 256, 128)        295040    ['concatenate_26[0][0]']      \n",
            "                                                                                                  \n",
            " conv2d_159 (Conv2D)         (None, 256, 256, 128)        147584    ['conv2d_158[0][0]']          \n",
            "                                                                                                  \n",
            " conv2d_160 (Conv2D)         (None, 256, 256, 128)        147584    ['conv2d_159[0][0]']          \n",
            "                                                                                                  \n",
            " conv2d_transpose_27 (Conv2  (None, 512, 512, 64)         32832     ['conv2d_160[0][0]']          \n",
            " DTranspose)                                                                                      \n",
            "                                                                                                  \n",
            " concatenate_27 (Concatenat  (None, 512, 512, 128)        0         ['conv2d_transpose_27[0][0]', \n",
            " e)                                                                  'conv2d_140[0][0]']          \n",
            "                                                                                                  \n",
            " conv2d_161 (Conv2D)         (None, 512, 512, 64)         73792     ['concatenate_27[0][0]']      \n",
            "                                                                                                  \n",
            " dropout_35 (Dropout)        (None, 512, 512, 64)         0         ['conv2d_161[0][0]']          \n",
            "                                                                                                  \n",
            " conv2d_162 (Conv2D)         (None, 512, 512, 64)         36928     ['dropout_35[0][0]']          \n",
            "                                                                                                  \n",
            " conv2d_163 (Conv2D)         (None, 512, 512, 64)         36928     ['conv2d_162[0][0]']          \n",
            "                                                                                                  \n",
            " conv2d_164 (Conv2D)         (None, 512, 512, 1)          65        ['conv2d_163[0][0]']          \n",
            "                                                                                                  \n",
            "==================================================================================================\n",
            "Total params: 37300545 (142.29 MB)\n",
            "Trainable params: 37300545 (142.29 MB)\n",
            "Non-trainable params: 0 (0.00 Byte)\n",
            "__________________________________________________________________________________________________\n"
          ]
        }
      ]
    },
    {
      "cell_type": "code",
      "source": [
        "from tensorflow.keras.layers import Conv2D, BatchNormalization, Activation, MaxPool2D, Conv2DTranspose, Concatenate, Input\n",
        "from tensorflow.keras.models import Model\n",
        "\n",
        "def conv_block(input, num_filters):\n",
        "    x = Conv2D(num_filters, 3, padding=\"same\")(input)\n",
        "    x = BatchNormalization()(x)\n",
        "    x = Activation(\"relu\")(x)\n",
        "\n",
        "    x = Conv2D(num_filters, 3, padding=\"same\")(x)\n",
        "    x = BatchNormalization()(x)\n",
        "    x = Activation(\"relu\")(x)\n",
        "\n",
        "    return x\n",
        "\n",
        "\n",
        "def encoder_block(input, num_filters):\n",
        "    x = conv_block(input, num_filters)\n",
        "    p = MaxPool2D((2, 2))(x)\n",
        "    return x, p\n",
        "\n",
        "\n",
        "def decoder_block(input, skip_features, num_filters):\n",
        "    x = Conv2DTranspose(num_filters, (2, 2), strides=2, padding=\"same\")(input)\n",
        "    x = Concatenate()([x, skip_features])\n",
        "    x = conv_block(x, num_filters)\n",
        "    return x\n",
        "\n",
        "def build_unet(input_shape):\n",
        "    inputs = Input(input_shape)\n",
        "\n",
        "    s1, p1 = encoder_block(inputs, 64)\n",
        "    s2, p2 = encoder_block(p1, 128)\n",
        "    s3, p3 = encoder_block(p2, 256)\n",
        "    s4, p4 = encoder_block(p3, 512)\n",
        "\n",
        "    b1 = conv_block(p4, 1024)\n",
        "\n",
        "    d1 = decoder_block(b1, s4, 512)\n",
        "    d2 = decoder_block(d1, s3, 256)\n",
        "    d3 = decoder_block(d2, s2, 128)\n",
        "    d4 = decoder_block(d3, s1, 64)\n",
        "\n",
        "    outputs = Conv2D(1, 1, padding=\"same\", activation=\"sigmoid\")(d4)\n",
        "\n",
        "    model = Model(inputs, outputs, name=\"U-Net\")\n",
        "    return model\n",
        "\n",
        "\n",
        "if __name__ == \"__main__\":\n",
        "    input_shape = (512, 512, 3)\n",
        "    model = build_unet(input_shape)\n",
        "    model.summary()"
      ],
      "metadata": {
        "colab": {
          "base_uri": "https://localhost:8080/"
        },
        "id": "xFv0e0hrAOOi",
        "outputId": "75fb0de1-9fe9-42a3-b919-ed779eefbbee"
      },
      "id": "xFv0e0hrAOOi",
      "execution_count": 12,
      "outputs": [
        {
          "output_type": "stream",
          "name": "stdout",
          "text": [
            "Model: \"U-Net\"\n",
            "__________________________________________________________________________________________________\n",
            " Layer (type)                Output Shape                 Param #   Connected to                  \n",
            "==================================================================================================\n",
            " input_2 (InputLayer)        [(None, 512, 512, 3)]        0         []                            \n",
            "                                                                                                  \n",
            " conv2d_19 (Conv2D)          (None, 512, 512, 64)         1792      ['input_2[0][0]']             \n",
            "                                                                                                  \n",
            " batch_normalization (Batch  (None, 512, 512, 64)         256       ['conv2d_19[0][0]']           \n",
            " Normalization)                                                                                   \n",
            "                                                                                                  \n",
            " activation (Activation)     (None, 512, 512, 64)         0         ['batch_normalization[0][0]'] \n",
            "                                                                                                  \n",
            " conv2d_20 (Conv2D)          (None, 512, 512, 64)         36928     ['activation[0][0]']          \n",
            "                                                                                                  \n",
            " batch_normalization_1 (Bat  (None, 512, 512, 64)         256       ['conv2d_20[0][0]']           \n",
            " chNormalization)                                                                                 \n",
            "                                                                                                  \n",
            " activation_1 (Activation)   (None, 512, 512, 64)         0         ['batch_normalization_1[0][0]'\n",
            "                                                                    ]                             \n",
            "                                                                                                  \n",
            " max_pooling2d_4 (MaxPoolin  (None, 256, 256, 64)         0         ['activation_1[0][0]']        \n",
            " g2D)                                                                                             \n",
            "                                                                                                  \n",
            " conv2d_21 (Conv2D)          (None, 256, 256, 128)        73856     ['max_pooling2d_4[0][0]']     \n",
            "                                                                                                  \n",
            " batch_normalization_2 (Bat  (None, 256, 256, 128)        512       ['conv2d_21[0][0]']           \n",
            " chNormalization)                                                                                 \n",
            "                                                                                                  \n",
            " activation_2 (Activation)   (None, 256, 256, 128)        0         ['batch_normalization_2[0][0]'\n",
            "                                                                    ]                             \n",
            "                                                                                                  \n",
            " conv2d_22 (Conv2D)          (None, 256, 256, 128)        147584    ['activation_2[0][0]']        \n",
            "                                                                                                  \n",
            " batch_normalization_3 (Bat  (None, 256, 256, 128)        512       ['conv2d_22[0][0]']           \n",
            " chNormalization)                                                                                 \n",
            "                                                                                                  \n",
            " activation_3 (Activation)   (None, 256, 256, 128)        0         ['batch_normalization_3[0][0]'\n",
            "                                                                    ]                             \n",
            "                                                                                                  \n",
            " max_pooling2d_5 (MaxPoolin  (None, 128, 128, 128)        0         ['activation_3[0][0]']        \n",
            " g2D)                                                                                             \n",
            "                                                                                                  \n",
            " conv2d_23 (Conv2D)          (None, 128, 128, 256)        295168    ['max_pooling2d_5[0][0]']     \n",
            "                                                                                                  \n",
            " batch_normalization_4 (Bat  (None, 128, 128, 256)        1024      ['conv2d_23[0][0]']           \n",
            " chNormalization)                                                                                 \n",
            "                                                                                                  \n",
            " activation_4 (Activation)   (None, 128, 128, 256)        0         ['batch_normalization_4[0][0]'\n",
            "                                                                    ]                             \n",
            "                                                                                                  \n",
            " conv2d_24 (Conv2D)          (None, 128, 128, 256)        590080    ['activation_4[0][0]']        \n",
            "                                                                                                  \n",
            " batch_normalization_5 (Bat  (None, 128, 128, 256)        1024      ['conv2d_24[0][0]']           \n",
            " chNormalization)                                                                                 \n",
            "                                                                                                  \n",
            " activation_5 (Activation)   (None, 128, 128, 256)        0         ['batch_normalization_5[0][0]'\n",
            "                                                                    ]                             \n",
            "                                                                                                  \n",
            " max_pooling2d_6 (MaxPoolin  (None, 64, 64, 256)          0         ['activation_5[0][0]']        \n",
            " g2D)                                                                                             \n",
            "                                                                                                  \n",
            " conv2d_25 (Conv2D)          (None, 64, 64, 512)          1180160   ['max_pooling2d_6[0][0]']     \n",
            "                                                                                                  \n",
            " batch_normalization_6 (Bat  (None, 64, 64, 512)          2048      ['conv2d_25[0][0]']           \n",
            " chNormalization)                                                                                 \n",
            "                                                                                                  \n",
            " activation_6 (Activation)   (None, 64, 64, 512)          0         ['batch_normalization_6[0][0]'\n",
            "                                                                    ]                             \n",
            "                                                                                                  \n",
            " conv2d_26 (Conv2D)          (None, 64, 64, 512)          2359808   ['activation_6[0][0]']        \n",
            "                                                                                                  \n",
            " batch_normalization_7 (Bat  (None, 64, 64, 512)          2048      ['conv2d_26[0][0]']           \n",
            " chNormalization)                                                                                 \n",
            "                                                                                                  \n",
            " activation_7 (Activation)   (None, 64, 64, 512)          0         ['batch_normalization_7[0][0]'\n",
            "                                                                    ]                             \n",
            "                                                                                                  \n",
            " max_pooling2d_7 (MaxPoolin  (None, 32, 32, 512)          0         ['activation_7[0][0]']        \n",
            " g2D)                                                                                             \n",
            "                                                                                                  \n",
            " conv2d_27 (Conv2D)          (None, 32, 32, 1024)         4719616   ['max_pooling2d_7[0][0]']     \n",
            "                                                                                                  \n",
            " batch_normalization_8 (Bat  (None, 32, 32, 1024)         4096      ['conv2d_27[0][0]']           \n",
            " chNormalization)                                                                                 \n",
            "                                                                                                  \n",
            " activation_8 (Activation)   (None, 32, 32, 1024)         0         ['batch_normalization_8[0][0]'\n",
            "                                                                    ]                             \n",
            "                                                                                                  \n",
            " conv2d_28 (Conv2D)          (None, 32, 32, 1024)         9438208   ['activation_8[0][0]']        \n",
            "                                                                                                  \n",
            " batch_normalization_9 (Bat  (None, 32, 32, 1024)         4096      ['conv2d_28[0][0]']           \n",
            " chNormalization)                                                                                 \n",
            "                                                                                                  \n",
            " activation_9 (Activation)   (None, 32, 32, 1024)         0         ['batch_normalization_9[0][0]'\n",
            "                                                                    ]                             \n",
            "                                                                                                  \n",
            " conv2d_transpose_4 (Conv2D  (None, 64, 64, 512)          2097664   ['activation_9[0][0]']        \n",
            " Transpose)                                                                                       \n",
            "                                                                                                  \n",
            " concatenate_4 (Concatenate  (None, 64, 64, 1024)         0         ['conv2d_transpose_4[0][0]',  \n",
            " )                                                                   'activation_7[0][0]']        \n",
            "                                                                                                  \n",
            " conv2d_29 (Conv2D)          (None, 64, 64, 512)          4719104   ['concatenate_4[0][0]']       \n",
            "                                                                                                  \n",
            " batch_normalization_10 (Ba  (None, 64, 64, 512)          2048      ['conv2d_29[0][0]']           \n",
            " tchNormalization)                                                                                \n",
            "                                                                                                  \n",
            " activation_10 (Activation)  (None, 64, 64, 512)          0         ['batch_normalization_10[0][0]\n",
            "                                                                    ']                            \n",
            "                                                                                                  \n",
            " conv2d_30 (Conv2D)          (None, 64, 64, 512)          2359808   ['activation_10[0][0]']       \n",
            "                                                                                                  \n",
            " batch_normalization_11 (Ba  (None, 64, 64, 512)          2048      ['conv2d_30[0][0]']           \n",
            " tchNormalization)                                                                                \n",
            "                                                                                                  \n",
            " activation_11 (Activation)  (None, 64, 64, 512)          0         ['batch_normalization_11[0][0]\n",
            "                                                                    ']                            \n",
            "                                                                                                  \n",
            " conv2d_transpose_5 (Conv2D  (None, 128, 128, 256)        524544    ['activation_11[0][0]']       \n",
            " Transpose)                                                                                       \n",
            "                                                                                                  \n",
            " concatenate_5 (Concatenate  (None, 128, 128, 512)        0         ['conv2d_transpose_5[0][0]',  \n",
            " )                                                                   'activation_5[0][0]']        \n",
            "                                                                                                  \n",
            " conv2d_31 (Conv2D)          (None, 128, 128, 256)        1179904   ['concatenate_5[0][0]']       \n",
            "                                                                                                  \n",
            " batch_normalization_12 (Ba  (None, 128, 128, 256)        1024      ['conv2d_31[0][0]']           \n",
            " tchNormalization)                                                                                \n",
            "                                                                                                  \n",
            " activation_12 (Activation)  (None, 128, 128, 256)        0         ['batch_normalization_12[0][0]\n",
            "                                                                    ']                            \n",
            "                                                                                                  \n",
            " conv2d_32 (Conv2D)          (None, 128, 128, 256)        590080    ['activation_12[0][0]']       \n",
            "                                                                                                  \n",
            " batch_normalization_13 (Ba  (None, 128, 128, 256)        1024      ['conv2d_32[0][0]']           \n",
            " tchNormalization)                                                                                \n",
            "                                                                                                  \n",
            " activation_13 (Activation)  (None, 128, 128, 256)        0         ['batch_normalization_13[0][0]\n",
            "                                                                    ']                            \n",
            "                                                                                                  \n",
            " conv2d_transpose_6 (Conv2D  (None, 256, 256, 128)        131200    ['activation_13[0][0]']       \n",
            " Transpose)                                                                                       \n",
            "                                                                                                  \n",
            " concatenate_6 (Concatenate  (None, 256, 256, 256)        0         ['conv2d_transpose_6[0][0]',  \n",
            " )                                                                   'activation_3[0][0]']        \n",
            "                                                                                                  \n",
            " conv2d_33 (Conv2D)          (None, 256, 256, 128)        295040    ['concatenate_6[0][0]']       \n",
            "                                                                                                  \n",
            " batch_normalization_14 (Ba  (None, 256, 256, 128)        512       ['conv2d_33[0][0]']           \n",
            " tchNormalization)                                                                                \n",
            "                                                                                                  \n",
            " activation_14 (Activation)  (None, 256, 256, 128)        0         ['batch_normalization_14[0][0]\n",
            "                                                                    ']                            \n",
            "                                                                                                  \n",
            " conv2d_34 (Conv2D)          (None, 256, 256, 128)        147584    ['activation_14[0][0]']       \n",
            "                                                                                                  \n",
            " batch_normalization_15 (Ba  (None, 256, 256, 128)        512       ['conv2d_34[0][0]']           \n",
            " tchNormalization)                                                                                \n",
            "                                                                                                  \n",
            " activation_15 (Activation)  (None, 256, 256, 128)        0         ['batch_normalization_15[0][0]\n",
            "                                                                    ']                            \n",
            "                                                                                                  \n",
            " conv2d_transpose_7 (Conv2D  (None, 512, 512, 64)         32832     ['activation_15[0][0]']       \n",
            " Transpose)                                                                                       \n",
            "                                                                                                  \n",
            " concatenate_7 (Concatenate  (None, 512, 512, 128)        0         ['conv2d_transpose_7[0][0]',  \n",
            " )                                                                   'activation_1[0][0]']        \n",
            "                                                                                                  \n",
            " conv2d_35 (Conv2D)          (None, 512, 512, 64)         73792     ['concatenate_7[0][0]']       \n",
            "                                                                                                  \n",
            " batch_normalization_16 (Ba  (None, 512, 512, 64)         256       ['conv2d_35[0][0]']           \n",
            " tchNormalization)                                                                                \n",
            "                                                                                                  \n",
            " activation_16 (Activation)  (None, 512, 512, 64)         0         ['batch_normalization_16[0][0]\n",
            "                                                                    ']                            \n",
            "                                                                                                  \n",
            " conv2d_36 (Conv2D)          (None, 512, 512, 64)         36928     ['activation_16[0][0]']       \n",
            "                                                                                                  \n",
            " batch_normalization_17 (Ba  (None, 512, 512, 64)         256       ['conv2d_36[0][0]']           \n",
            " tchNormalization)                                                                                \n",
            "                                                                                                  \n",
            " activation_17 (Activation)  (None, 512, 512, 64)         0         ['batch_normalization_17[0][0]\n",
            "                                                                    ']                            \n",
            "                                                                                                  \n",
            " conv2d_37 (Conv2D)          (None, 512, 512, 1)          65        ['activation_17[0][0]']       \n",
            "                                                                                                  \n",
            "==================================================================================================\n",
            "Total params: 31055297 (118.47 MB)\n",
            "Trainable params: 31043521 (118.42 MB)\n",
            "Non-trainable params: 11776 (46.00 KB)\n",
            "__________________________________________________________________________________________________\n"
          ]
        }
      ]
    },
    {
      "cell_type": "code",
      "source": [
        "import os\n",
        "os.environ[\"TF_CPP_MIN_LOG_LEVEL\"] = \"2\"\n",
        "import numpy as np\n",
        "import cv2\n",
        "from glob import glob\n",
        "from sklearn.utils import shuffle\n",
        "import tensorflow as tf\n",
        "from tensorflow.keras.callbacks import ModelCheckpoint, CSVLogger, ReduceLROnPlateau, EarlyStopping, TensorBoard\n",
        "from tensorflow.keras.optimizers import Adam\n",
        "from tensorflow.keras.metrics import Recall, Precision\n",
        "# from modell import U_NET\n",
        "from metrics import dice_loss, dice_coef, iou\n",
        "\n",
        "H = 512\n",
        "W = 512\n",
        "\n",
        "def create_dir(path):\n",
        "    \"\"\" Create a directory. \"\"\"\n",
        "    if not os.path.exists(path):\n",
        "        os.makedirs(path)\n",
        "\n",
        "def shuffling(x, y):\n",
        "    x, y = shuffle(x, y, random_state=42)\n",
        "    return x, y\n",
        "\n",
        "def load_data(path):\n",
        "    x = sorted(glob(os.path.join(path, \"image\", \"*.jpg\")))\n",
        "    y = sorted(glob(os.path.join(path, \"mask\", \"*.jpg\")))\n",
        "    return x, y\n",
        "\n",
        "def read_image(path):\n",
        "    path = path.decode()\n",
        "    x = cv2.imread(path, cv2.IMREAD_COLOR)\n",
        "    x = x/255.0\n",
        "    x = x.astype(np.float32)\n",
        "    return x\n",
        "\n",
        "def read_mask(path):\n",
        "    path = path.decode()\n",
        "    x = cv2.imread(path, cv2.IMREAD_GRAYSCALE)\n",
        "    x = x/255.0\n",
        "    x = x > 0.5\n",
        "    x = x.astype(np.float32)\n",
        "    x = np.expand_dims(x, axis=-1)\n",
        "    return x\n",
        "\n",
        "def tf_parse(x, y):\n",
        "    def _parse(x, y):\n",
        "        x = read_image(x)\n",
        "        y = read_mask(y)\n",
        "        return x, y\n",
        "\n",
        "    x, y = tf.numpy_function(_parse, [x, y], [tf.float32, tf.float32])\n",
        "    x.set_shape([H, W, 3])\n",
        "    y.set_shape([H, W, 1])\n",
        "    return x, y\n",
        "\n",
        "def tf_dataset(x, y, batch=8):\n",
        "    dataset = tf.data.Dataset.from_tensor_slices((x, y))\n",
        "    dataset = dataset.map(tf_parse)\n",
        "    dataset = dataset.batch(batch)\n",
        "    dataset = dataset.prefetch(10)\n",
        "    return dataset\n",
        "\n",
        "\n",
        "if __name__ == \"__main__\":\n",
        "    \"\"\" Seeding \"\"\"\n",
        "    np.random.seed(42)\n",
        "    tf.random.set_seed(42)\n",
        "\n",
        "    \"\"\" Directory for storing files \"\"\"\n",
        "    create_dir(\"files\")\n",
        "\n",
        "    \"\"\" Hyperparameters \"\"\"\n",
        "    batch_size = 2\n",
        "    lr = 1e-4\n",
        "    num_epochs = 5\n",
        "    model_path = os.path.join(\"files\", \"model.h5\")\n",
        "    csv_path = os.path.join(\"files\", \"data.csv\")\n",
        "\n",
        "    \"\"\" Dataset \"\"\"\n",
        "    dataset_path = os.path.join(\"new_data\")\n",
        "    train_path = os.path.join(dataset_path, \"train\")\n",
        "    valid_path = os.path.join(dataset_path, \"valid\")\n",
        "\n",
        "    train_x, train_y = load_data(train_path)\n",
        "    train_x, train_y = shuffling(train_x, train_y)\n",
        "    valid_x, valid_y = load_data(valid_path)\n",
        "\n",
        "    print(f\"Train: {len(train_x)} - {len(train_y)}\")\n",
        "    print(f\"Valid: {len(valid_x)} - {len(valid_y)}\")\n",
        "\n",
        "    train_dataset = tf_dataset(train_x, train_y, batch=batch_size)\n",
        "    valid_dataset = tf_dataset(valid_x, valid_y, batch=batch_size)\n",
        "\n",
        "    \"\"\" Model \"\"\"\n",
        "    model = U_NET((H, W, 3))\n",
        "    metrics = [dice_coef, iou, Recall(), Precision()]\n",
        "    model.compile(loss=dice_loss, optimizer=Adam(lr=1e-6), metrics=metrics)\n",
        "\n",
        "    callbacks = [\n",
        "        ModelCheckpoint(model_path, verbose=1, save_best_only=True),\n",
        "        ReduceLROnPlateau(monitor='val_loss', factor=0.1, patience=10, min_lr=1e-7, verbose=1),\n",
        "        CSVLogger(csv_path),\n",
        "        TensorBoard(),\n",
        "        EarlyStopping(monitor='val_loss', patience=50, restore_best_weights=False),\n",
        "    ]\n",
        "\n"
      ],
      "metadata": {
        "colab": {
          "base_uri": "https://localhost:8080/"
        },
        "id": "Owx6Y1W38nXh",
        "outputId": "63987b0e-6844-444f-e0ce-8d039b5d8d66"
      },
      "id": "Owx6Y1W38nXh",
      "execution_count": 29,
      "outputs": [
        {
          "output_type": "stream",
          "name": "stdout",
          "text": [
            "Train: 80 - 80\n",
            "Valid: 20 - 20\n",
            "128\n",
            "256\n",
            "512\n",
            "1024\n",
            "3\n",
            "2\n",
            "512\n",
            "256\n",
            "128\n"
          ]
        },
        {
          "output_type": "stream",
          "name": "stderr",
          "text": [
            "WARNING:absl:`lr` is deprecated in Keras optimizer, please use `learning_rate` or use the legacy optimizer, e.g.,tf.keras.optimizers.legacy.Adam.\n",
            "WARNING:absl:`lr` is deprecated in Keras optimizer, please use `learning_rate` or use the legacy optimizer, e.g.,tf.keras.optimizers.legacy.Adam.\n"
          ]
        }
      ]
    },
    {
      "cell_type": "code",
      "source": [
        "model.fit(\n",
        "        train_dataset,\n",
        "        epochs=num_epochs,\n",
        "        validation_data=valid_dataset,\n",
        "        callbacks=callbacks,\n",
        "        shuffle=False\n",
        "    )"
      ],
      "metadata": {
        "colab": {
          "base_uri": "https://localhost:8080/"
        },
        "id": "7nTOnDDX-Jgh",
        "outputId": "d7c01884-909e-4e4a-a245-a53a62cc52ba"
      },
      "id": "7nTOnDDX-Jgh",
      "execution_count": 30,
      "outputs": [
        {
          "output_type": "stream",
          "name": "stdout",
          "text": [
            "Epoch 1/5\n",
            "40/40 [==============================] - ETA: 0s - loss: 0.7291 - dice_coef: 0.2709 - iou: 0.1623 - recall_2: 0.9757 - precision_2: 0.1634\n",
            "Epoch 1: val_loss improved from inf to 0.66409, saving model to files/model.h5\n"
          ]
        },
        {
          "output_type": "stream",
          "name": "stderr",
          "text": [
            "/usr/local/lib/python3.10/dist-packages/keras/src/engine/training.py:3103: UserWarning: You are saving your model as an HDF5 file via `model.save()`. This file format is considered legacy. We recommend using instead the native Keras format, e.g. `model.save('my_model.keras')`.\n",
            "  saving_api.save_model(\n"
          ]
        },
        {
          "output_type": "stream",
          "name": "stdout",
          "text": [
            "\b\b\b\b\b\b\b\b\b\b\b\b\b\b\b\b\b\b\b\b\b\b\b\b\b\b\b\b\b\b\b\b\b\b\b\b\b\b\b\b\b\b\b\b\b\b\b\b\b\b\b\b\b\b\b\b\b\b\b\b\b\b\b\b\b\b\b\b\b\b\b\b\b\b\b\b\b\b\b\b\b\b\b\b\b\b\b\b\b\b\b\b\b\b\b\b\b\b\b\b\b\b\b\b\b\b\b\b\b\b\b\b\b\b\b\b\b\b\b\b\b\b\b\b\b\b\b\b\b\b\b\b\b\b\b\b\b\b\r40/40 [==============================] - 42s 806ms/step - loss: 0.7291 - dice_coef: 0.2709 - iou: 0.1623 - recall_2: 0.9757 - precision_2: 0.1634 - val_loss: 0.6641 - val_dice_coef: 0.3359 - val_iou: 0.2099 - val_recall_2: 1.0000 - val_precision_2: 0.2099 - lr: 0.0010\n",
            "Epoch 2/5\n",
            "40/40 [==============================] - ETA: 0s - loss: 0.7269 - dice_coef: 0.2731 - iou: 0.1638 - recall_2: 1.0000 - precision_2: 0.1638\n",
            "Epoch 2: val_loss did not improve from 0.66409\n",
            "40/40 [==============================] - 28s 697ms/step - loss: 0.7269 - dice_coef: 0.2731 - iou: 0.1638 - recall_2: 1.0000 - precision_2: 0.1638 - val_loss: 0.6641 - val_dice_coef: 0.3359 - val_iou: 0.2099 - val_recall_2: 1.0000 - val_precision_2: 0.2099 - lr: 0.0010\n",
            "Epoch 3/5\n",
            "40/40 [==============================] - ETA: 0s - loss: 0.7269 - dice_coef: 0.2731 - iou: 0.1638 - recall_2: 1.0000 - precision_2: 0.1638\n",
            "Epoch 3: val_loss did not improve from 0.66409\n",
            "40/40 [==============================] - 28s 701ms/step - loss: 0.7269 - dice_coef: 0.2731 - iou: 0.1638 - recall_2: 1.0000 - precision_2: 0.1638 - val_loss: 0.6641 - val_dice_coef: 0.3359 - val_iou: 0.2099 - val_recall_2: 1.0000 - val_precision_2: 0.2099 - lr: 0.0010\n",
            "Epoch 4/5\n",
            "40/40 [==============================] - ETA: 0s - loss: 0.7269 - dice_coef: 0.2731 - iou: 0.1638 - recall_2: 1.0000 - precision_2: 0.1638\n",
            "Epoch 4: val_loss did not improve from 0.66409\n",
            "40/40 [==============================] - 28s 708ms/step - loss: 0.7269 - dice_coef: 0.2731 - iou: 0.1638 - recall_2: 1.0000 - precision_2: 0.1638 - val_loss: 0.6641 - val_dice_coef: 0.3359 - val_iou: 0.2099 - val_recall_2: 1.0000 - val_precision_2: 0.2099 - lr: 0.0010\n",
            "Epoch 5/5\n",
            "40/40 [==============================] - ETA: 0s - loss: 0.7269 - dice_coef: 0.2731 - iou: 0.1638 - recall_2: 1.0000 - precision_2: 0.1638\n",
            "Epoch 5: val_loss did not improve from 0.66409\n",
            "40/40 [==============================] - 28s 713ms/step - loss: 0.7269 - dice_coef: 0.2731 - iou: 0.1638 - recall_2: 1.0000 - precision_2: 0.1638 - val_loss: 0.6641 - val_dice_coef: 0.3359 - val_iou: 0.2099 - val_recall_2: 1.0000 - val_precision_2: 0.2099 - lr: 0.0010\n"
          ]
        },
        {
          "output_type": "execute_result",
          "data": {
            "text/plain": [
              "<keras.src.callbacks.History at 0x7de4a7634490>"
            ]
          },
          "metadata": {},
          "execution_count": 30
        }
      ]
    },
    {
      "cell_type": "code",
      "source": [
        "import os\n",
        "os.environ[\"TF_CPP_MIN_LOG_LEVEL\"] = \"2\"\n",
        "\n",
        "import numpy as np\n",
        "import cv2\n",
        "import pandas as pd\n",
        "from glob import glob\n",
        "from tqdm import tqdm\n",
        "import tensorflow as tf\n",
        "from tensorflow.keras.utils import CustomObjectScope\n",
        "from sklearn.metrics import accuracy_score, f1_score, jaccard_score, precision_score, recall_score\n",
        "from metrics import dice_loss, dice_coef, iou\n",
        "# from train import load_data\n",
        "\n",
        "H = 512\n",
        "W = 512\n",
        "\n",
        "\"\"\" Creating a directory \"\"\"\n",
        "def create_dir(path):\n",
        "    if not os.path.exists(path):\n",
        "        os.makedirs(path)\n",
        "\n",
        "def save_results(image, mask, y_pred, save_image_path):\n",
        "    ## i - m - y\n",
        "    line = np.ones((H, 10, 3)) * 128\n",
        "\n",
        "    \"\"\" Mask \"\"\"\n",
        "    mask = np.expand_dims(mask, axis=-1)    ## (512, 512, 1)\n",
        "    mask = np.concatenate([mask, mask, mask], axis=-1)  ## (512, 512, 3)\n",
        "\n",
        "    \"\"\" Predicted Mask \"\"\"\n",
        "    y_pred = np.expand_dims(y_pred, axis=-1)    ## (512, 512, 1)\n",
        "    y_pred = np.concatenate([y_pred, y_pred, y_pred], axis=-1)  ## (512, 512, 3)\n",
        "    y_pred = y_pred * 255\n",
        "\n",
        "    cat_images = np.concatenate([image, line, mask, line, y_pred], axis=1)\n",
        "    cv2.imwrite(save_image_path, cat_images)\n",
        "\n",
        "if __name__ == \"__main__\":\n",
        "    \"\"\" Seeding \"\"\"\n",
        "    np.random.seed(42)\n",
        "    tf.random.set_seed(42)\n",
        "\n",
        "    \"\"\" Directory for storing files \"\"\"\n",
        "    create_dir(\"results\")\n",
        "\n",
        "    \"\"\" Loading model \"\"\"\n",
        "    with CustomObjectScope({'iou': iou, 'dice_coef': dice_coef, 'dice_loss': dice_loss}):\n",
        "        model = tf.keras.models.load_model(\"files/model.h5\")\n",
        "\n",
        "    \"\"\" Load the dataset \"\"\"\n",
        "    test_x = sorted(glob(os.path.join(\"new_data\", \"valid\", \"image\", \"*\")))\n",
        "    test_y = sorted(glob(os.path.join(\"new_data\", \"valid\", \"mask\", \"*\")))\n",
        "    print(f\"Test: {len(test_x)} - {len(test_y)}\")\n",
        "\n",
        "    \"\"\" Evaluation and Prediction \"\"\"\n",
        "    SCORE = []\n",
        "    for x, y in tqdm(zip(test_x, test_y), total=len(test_x)):\n",
        "        \"\"\" Extract the name \"\"\"\n",
        "        name = x.split(\"/\")[-1].split(\".\")[0]\n",
        "\n",
        "        \"\"\" Reading the image \"\"\"\n",
        "        image = cv2.imread(x, cv2.IMREAD_COLOR)\n",
        "        x = image/255.0\n",
        "        x = np.expand_dims(x, axis=0)\n",
        "\n",
        "        \"\"\" Reading the mask \"\"\"\n",
        "        mask = cv2.imread(y, cv2.IMREAD_GRAYSCALE)\n",
        "        y = mask/255.0\n",
        "        y = y > 0.5\n",
        "        y = y.astype(np.int32)\n",
        "\n",
        "        \"\"\" Prediction \"\"\"\n",
        "        y_pred = model.predict(x)[0]\n",
        "        y_pred = np.squeeze(y_pred, axis=-1)\n",
        "        y_pred = y_pred > 0.5\n",
        "        y_pred = y_pred.astype(np.int32)\n",
        "\n",
        "        \"\"\" Saving the prediction \"\"\"\n",
        "        save_image_path = f\"results/{name}.png\"\n",
        "        save_results(image, mask, y_pred, save_image_path)\n",
        "\n",
        "        \"\"\" Flatten the array \"\"\"\n",
        "        y = y.flatten()\n",
        "        y_pred = y_pred.flatten()\n",
        "\n",
        "        \"\"\" Calculating the metrics values \"\"\"\n",
        "        acc_value = accuracy_score(y, y_pred)\n",
        "        f1_value = f1_score(y, y_pred, labels=[0, 1], average=\"binary\", zero_division=1)\n",
        "        jac_value = jaccard_score(y, y_pred, labels=[0, 1], average=\"binary\", zero_division=1)\n",
        "        recall_value = recall_score(y, y_pred, labels=[0, 1], average=\"binary\", zero_division=1)\n",
        "        precision_value = precision_score(y, y_pred, labels=[0, 1], average=\"binary\", zero_division=1)\n",
        "        SCORE.append([name, acc_value, f1_value, jac_value, recall_value, precision_value])\n",
        "\n",
        "    \"\"\" Metrics values \"\"\"\n",
        "    score = [s[1:]for s in SCORE]\n",
        "    score = np.mean(score, axis=0)\n",
        "    print(f\"Accuracy: {score[0]:0.5f}\")\n",
        "    print(f\"F1: {score[1]:0.5f}\")\n",
        "    print(f\"Jaccard: {score[2]:0.5f}\")\n",
        "    print(f\"Recall: {score[3]:0.5f}\")\n",
        "    print(f\"Precision: {score[4]:0.5f}\")\n",
        "\n",
        "    df = pd.DataFrame(SCORE, columns=[\"Image\", \"Accuracy\", \"F1\", \"Jaccard\", \"Recall\", \"Precision\"])\n",
        "    df.to_csv(\"files/score.csv\")"
      ],
      "metadata": {
        "id": "SFbVoOWkDj0o",
        "colab": {
          "base_uri": "https://localhost:8080/"
        },
        "outputId": "9e097c7d-ffb6-40af-9b5d-44477aafa3de"
      },
      "id": "SFbVoOWkDj0o",
      "execution_count": 31,
      "outputs": [
        {
          "output_type": "stream",
          "name": "stdout",
          "text": [
            "Test: 20 - 20\n"
          ]
        },
        {
          "output_type": "stream",
          "name": "stderr",
          "text": [
            "\r  0%|          | 0/20 [00:00<?, ?it/s]"
          ]
        },
        {
          "output_type": "stream",
          "name": "stdout",
          "text": [
            "1/1 [==============================] - 0s 297ms/step\n"
          ]
        },
        {
          "output_type": "stream",
          "name": "stderr",
          "text": [
            "\r  5%|▌         | 1/20 [00:00<00:15,  1.25it/s]"
          ]
        },
        {
          "output_type": "stream",
          "name": "stdout",
          "text": [
            "1/1 [==============================] - 0s 21ms/step\n"
          ]
        },
        {
          "output_type": "stream",
          "name": "stderr",
          "text": [
            "\r 10%|█         | 2/20 [00:01<00:11,  1.61it/s]"
          ]
        },
        {
          "output_type": "stream",
          "name": "stdout",
          "text": [
            "1/1 [==============================] - 0s 21ms/step\n"
          ]
        },
        {
          "output_type": "stream",
          "name": "stderr",
          "text": [
            "\r 15%|█▌        | 3/20 [00:01<00:09,  1.76it/s]"
          ]
        },
        {
          "output_type": "stream",
          "name": "stdout",
          "text": [
            "1/1 [==============================] - 0s 23ms/step\n"
          ]
        },
        {
          "output_type": "stream",
          "name": "stderr",
          "text": [
            "\r 20%|██        | 4/20 [00:02<00:08,  1.88it/s]"
          ]
        },
        {
          "output_type": "stream",
          "name": "stdout",
          "text": [
            "1/1 [==============================] - 0s 21ms/step\n"
          ]
        },
        {
          "output_type": "stream",
          "name": "stderr",
          "text": [
            "\r 25%|██▌       | 5/20 [00:02<00:07,  2.00it/s]"
          ]
        },
        {
          "output_type": "stream",
          "name": "stdout",
          "text": [
            "1/1 [==============================] - 0s 21ms/step\n"
          ]
        },
        {
          "output_type": "stream",
          "name": "stderr",
          "text": [
            "\r 30%|███       | 6/20 [00:03<00:07,  2.00it/s]"
          ]
        },
        {
          "output_type": "stream",
          "name": "stdout",
          "text": [
            "1/1 [==============================] - 0s 21ms/step\n"
          ]
        },
        {
          "output_type": "stream",
          "name": "stderr",
          "text": [
            "\r 35%|███▌      | 7/20 [00:03<00:06,  1.99it/s]"
          ]
        },
        {
          "output_type": "stream",
          "name": "stdout",
          "text": [
            "1/1 [==============================] - 0s 21ms/step\n"
          ]
        },
        {
          "output_type": "stream",
          "name": "stderr",
          "text": [
            "\r 40%|████      | 8/20 [00:04<00:06,  1.98it/s]"
          ]
        },
        {
          "output_type": "stream",
          "name": "stdout",
          "text": [
            "1/1 [==============================] - 0s 22ms/step\n"
          ]
        },
        {
          "output_type": "stream",
          "name": "stderr",
          "text": [
            "\r 45%|████▌     | 9/20 [00:04<00:05,  2.05it/s]"
          ]
        },
        {
          "output_type": "stream",
          "name": "stdout",
          "text": [
            "1/1 [==============================] - 0s 20ms/step\n"
          ]
        },
        {
          "output_type": "stream",
          "name": "stderr",
          "text": [
            "\r 50%|█████     | 10/20 [00:05<00:04,  2.05it/s]"
          ]
        },
        {
          "output_type": "stream",
          "name": "stdout",
          "text": [
            "1/1 [==============================] - 0s 20ms/step\n"
          ]
        },
        {
          "output_type": "stream",
          "name": "stderr",
          "text": [
            "\r 55%|█████▌    | 11/20 [00:05<00:04,  2.11it/s]"
          ]
        },
        {
          "output_type": "stream",
          "name": "stdout",
          "text": [
            "1/1 [==============================] - 0s 21ms/step\n"
          ]
        },
        {
          "output_type": "stream",
          "name": "stderr",
          "text": [
            "\r 60%|██████    | 12/20 [00:06<00:03,  2.05it/s]"
          ]
        },
        {
          "output_type": "stream",
          "name": "stdout",
          "text": [
            "1/1 [==============================] - 0s 20ms/step\n"
          ]
        },
        {
          "output_type": "stream",
          "name": "stderr",
          "text": [
            "\r 65%|██████▌   | 13/20 [00:06<00:03,  2.11it/s]"
          ]
        },
        {
          "output_type": "stream",
          "name": "stdout",
          "text": [
            "1/1 [==============================] - 0s 20ms/step\n"
          ]
        },
        {
          "output_type": "stream",
          "name": "stderr",
          "text": [
            "\r 70%|███████   | 14/20 [00:07<00:02,  2.13it/s]"
          ]
        },
        {
          "output_type": "stream",
          "name": "stdout",
          "text": [
            "1/1 [==============================] - 0s 20ms/step\n"
          ]
        },
        {
          "output_type": "stream",
          "name": "stderr",
          "text": [
            "\r 75%|███████▌  | 15/20 [00:07<00:02,  2.08it/s]"
          ]
        },
        {
          "output_type": "stream",
          "name": "stdout",
          "text": [
            "1/1 [==============================] - 0s 20ms/step\n"
          ]
        },
        {
          "output_type": "stream",
          "name": "stderr",
          "text": [
            "\r 80%|████████  | 16/20 [00:08<00:01,  2.09it/s]"
          ]
        },
        {
          "output_type": "stream",
          "name": "stdout",
          "text": [
            "1/1 [==============================] - 0s 22ms/step\n"
          ]
        },
        {
          "output_type": "stream",
          "name": "stderr",
          "text": [
            "\r 85%|████████▌ | 17/20 [00:08<00:01,  1.89it/s]"
          ]
        },
        {
          "output_type": "stream",
          "name": "stdout",
          "text": [
            "1/1 [==============================] - 0s 28ms/step\n"
          ]
        },
        {
          "output_type": "stream",
          "name": "stderr",
          "text": [
            "\r 90%|█████████ | 18/20 [00:09<00:01,  1.66it/s]"
          ]
        },
        {
          "output_type": "stream",
          "name": "stdout",
          "text": [
            "1/1 [==============================] - 0s 28ms/step\n"
          ]
        },
        {
          "output_type": "stream",
          "name": "stderr",
          "text": [
            "\r 95%|█████████▌| 19/20 [00:10<00:00,  1.54it/s]"
          ]
        },
        {
          "output_type": "stream",
          "name": "stdout",
          "text": [
            "1/1 [==============================] - 0s 35ms/step\n"
          ]
        },
        {
          "output_type": "stream",
          "name": "stderr",
          "text": [
            "100%|██████████| 20/20 [00:10<00:00,  1.84it/s]"
          ]
        },
        {
          "output_type": "stream",
          "name": "stdout",
          "text": [
            "Accuracy: 0.20986\n",
            "F1: 0.32589\n",
            "Jaccard: 0.20986\n",
            "Recall: 1.00000\n",
            "Precision: 0.20986\n"
          ]
        },
        {
          "output_type": "stream",
          "name": "stderr",
          "text": [
            "\n"
          ]
        }
      ]
    },
    {
      "cell_type": "code",
      "source": [],
      "metadata": {
        "id": "XLGxsQU29VyM"
      },
      "id": "XLGxsQU29VyM",
      "execution_count": null,
      "outputs": []
    }
  ],
  "metadata": {
    "kernelspec": {
      "display_name": "Python 3",
      "name": "python3"
    },
    "language_info": {
      "codemirror_mode": {
        "name": "ipython",
        "version": 3
      },
      "file_extension": ".py",
      "mimetype": "text/x-python",
      "name": "python",
      "nbconvert_exporter": "python",
      "pygments_lexer": "ipython3",
      "version": "3.9.13"
    },
    "colab": {
      "provenance": [],
      "gpuType": "T4",
      "include_colab_link": true
    },
    "accelerator": "GPU"
  },
  "nbformat": 4,
  "nbformat_minor": 5
}